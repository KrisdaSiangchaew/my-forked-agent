{
 "cells": [
  {
   "cell_type": "code",
   "execution_count": null,
   "id": "04663781",
   "metadata": {},
   "outputs": [],
   "source": [
    "# Give instructions for your agent\n",
    "instructions1 = \"You are a sales agent working for ComplAI, \\\n",
    "a company that provides a SaaS tool for ensuring SOC2 compliance and preparing for audits, powered by AI. \\\n",
    "You write professional, serious cold emails.\"\n",
    "\n",
    "instructions2 = \"You are a humorous, engaging sales agent working for ComplAI, \\\n",
    "a company that provides a SaaS tool for ensuring SOC2 compliance and preparing for audits, powered by AI. \\\n",
    "You write witty, engaging cold emails that are likely to get a response.\"\n",
    "\n",
    "instructions3 = \"You are a busy sales agent working for ComplAI, \\\n",
    "a company that provides a SaaS tool for ensuring SOC2 compliance and preparing for audits, powered by AI. \\\n",
    "You write short, concise cold emails that are likely to get a response.\""
   ]
  },
  {
   "cell_type": "code",
   "execution_count": null,
   "id": "71432fb9",
   "metadata": {},
   "outputs": [],
   "source": [
    "# Import libraries to create your agents\n",
    "from agents import Agent, Runner, trace, function_tool\n",
    "from openai.types.responses import ResponseTextDeltaEvent"
   ]
  },
  {
   "cell_type": "code",
   "execution_count": null,
   "id": "dcdd63f6",
   "metadata": {},
   "outputs": [],
   "source": [
    "# Create your agents\n",
    "sales_agent1 = Agent(\n",
    "    name=\"Serious Sales Agent\", \n",
    "    instructions=instructions1, \n",
    "    model='gpt-4o-mini'\n",
    "    )\n",
    "\n",
    "sales_agent2 = Agent(\n",
    "    name=\"Witty Sales Agent\", \n",
    "    instructions=instructions2, \n",
    "    model='gpt-4o-mini'\n",
    "    )\n",
    "\n",
    "sales_agent3 = Agent(\n",
    "    name=\"Busy Sales Agent\", \n",
    "    instructions=instructions3, \n",
    "    model='gpt-4o-mini'\n",
    "    )\n",
    "    "
   ]
  },
  {
   "cell_type": "code",
   "execution_count": null,
   "id": "c5557ff0",
   "metadata": {},
   "outputs": [],
   "source": [
    "# Test using a single sales agent 1\n",
    "result = Runner.run_streamed(sales_agent1, input=\"Write a cold sales email\")\n",
    "\n",
    "async for event in result.stream_events():\n",
    "    if event.type == \"raw_response_event\" and isinstance(event.data, ResponseTextDeltaEvent):\n",
    "        print(event.data.delta, end=\"\", flush=True)\n"
   ]
  },
  {
   "cell_type": "code",
   "execution_count": null,
   "id": "f53feef0",
   "metadata": {},
   "outputs": [],
   "source": [
    "import asyncio"
   ]
  },
  {
   "cell_type": "code",
   "execution_count": null,
   "id": "171850e3",
   "metadata": {},
   "outputs": [],
   "source": [
    "# You can launch multiple agents in parallel\n",
    "message = \"Write a cold sales email\"\n",
    "\n",
    "with trace(\"Parallel cold emails\"):\n",
    "    results = await asyncio.gather(\n",
    "        Runner.run(sales_agent1, message),\n",
    "        Runner.run(sales_agent2, message),\n",
    "        Runner.run(sales_agent3, message),\n",
    "    )\n",
    "    outputs = [result.final_output for result in results]\n",
    "\n",
    "    for output in outputs:\n",
    "        print(output + \"\\n\\n\")\n",
    "        "
   ]
  },
  {
   "cell_type": "markdown",
   "id": "cdefc9b0",
   "metadata": {},
   "source": [
    "https://platform.openai.com/traces"
   ]
  },
  {
   "cell_type": "code",
   "execution_count": null,
   "id": "1ba4d658",
   "metadata": {},
   "outputs": [],
   "source": [
    "# Use tools to enable some conditional logic\n",
    "\n",
    "# First notice that you can include tool functions in the agent\n",
    "\n",
    "sales_agent1"
   ]
  },
  {
   "cell_type": "code",
   "execution_count": null,
   "id": "96754eb4",
   "metadata": {},
   "outputs": [],
   "source": [
    "# To include tool in tools=[] of the agent\n",
    "# Wrap your function with the decorator\n",
    "# @function_tool\n",
    "# eliminate putting everything into JSON\n",
    "\n",
    "from sendgrid import from_email, sendgrid\n",
    "from sendgrid.helpers.mail import Mail, Email, To, Content\n",
    "import os\n",
    "\n",
    "@function_tool\n",
    "def send_email(body: str):\n",
    "    \"\"\" Send out an email with the given body to all sales prospects \"\"\"\n",
    "    sg = sendgrid.SendGridAPIClient(api_key=os.getenv('SENDGRID_API_KEY'))\n",
    "    from_email = 'krisdas8@gmail.com'\n",
    "    to_email='krisdas8@gmail.com'\n",
    "    content = Content(mime_type='text/plain', content=body)\n",
    "    mail = Mail(from_email=from_email, to_emails=to_email, subject=\"Sales email\", plain_text_content=content).get()\n",
    "    sg.client.mail.send.post(request_body=mail)\n",
    "    return {\"status\": \"success\"}\n"
   ]
  },
  {
   "cell_type": "code",
   "execution_count": null,
   "id": "19b306c1",
   "metadata": {},
   "outputs": [],
   "source": [
    "send_email(body=\"This is a test email\")"
   ]
  },
  {
   "cell_type": "code",
   "execution_count": null,
   "id": "ca9eb996",
   "metadata": {},
   "outputs": [],
   "source": [
    "send_email"
   ]
  },
  {
   "cell_type": "code",
   "execution_count": null,
   "id": "2a1a0ad5",
   "metadata": {},
   "outputs": [],
   "source": [
    "# Turn agent into tools\n",
    "\n",
    "tool1 = sales_agent1.as_tool(tool_name=\"sales_agent1\", tool_description=\"Writes a cold sales email\")\n",
    "tool2 = sales_agent2.as_tool(tool_name=\"sales_agent2\", tool_description=\"Writes a cold sales email\")\n",
    "tool3 = sales_agent3.as_tool(tool_name=\"sales_agent3\", tool_description=\"Writes a cold sales email\")"
   ]
  },
  {
   "cell_type": "code",
   "execution_count": null,
   "id": "72996d7d",
   "metadata": {},
   "outputs": [],
   "source": [
    "tool1"
   ]
  },
  {
   "cell_type": "code",
   "execution_count": null,
   "id": "a0603a02",
   "metadata": {},
   "outputs": [],
   "source": [
    "tools = [tool1, tool2, tool3, send_email]\n",
    "\n",
    "tools"
   ]
  },
  {
   "cell_type": "code",
   "execution_count": null,
   "id": "818665e6",
   "metadata": {},
   "outputs": [],
   "source": [
    "instructions = \"\"\"\n",
    "You are a Sales Manager at ComplAI.  Your job is to select the best cold sales email using the sales_agent tool.\n",
    "\n",
    "Follow these steps carefully:\n",
    "1. Generate drafts: Use all 3 sales_agent tools to each draft 1 unique cold sale email.  Do not proceed until all sales agent completed the draft.\n",
    "2. Evaluate and select: Evaluate and select the best draft that you think will have the highest response from the email recipient.\n",
    "3. Use the send_email tool to send the selected email.\n",
    "\n",
    "Crucial rules:\n",
    "- You must use the sales agent tools to generate the draft -- do not write them yourself.\n",
    "- You must use send ONE email using the send email tool -- never more than one.\n",
    "\"\"\"\n",
    "\n",
    "sales_manager_agent = Agent(name=\"sales_manager\", instructions=instructions, tools=tools, model='gpt-4.1-nano')\n",
    "\n",
    "message = \"Send a cold sales email addressed to 'Dear CEO'\"\n",
    "\n",
    "with trace(\"Sales manager\"):\n",
    "    result = await Runner.run(starting_agent=sales_manager_agent, input=message)"
   ]
  },
  {
   "cell_type": "code",
   "execution_count": null,
   "id": "3d487f3d",
   "metadata": {},
   "outputs": [],
   "source": [
    "# Email subject writer agent\n",
    "subject_instruction = \"You are given a cold sale email text. You will write a subject for that email text that will get the most attention from the email recipient.\"\n",
    "subject_writer = Agent(name=\"subject writer\", instructions=subject_instruction, model='gpt-4.1-nano')\n",
    "subject_tool = subject_writer.as_tool(tool_name='subject writer tool', tool_description='writes a subject for the cold sale email')\n",
    "\n",
    "# Email text to html conversion agent\n",
    "html_instruction = \"You are given an email text that may be in a Markdown format.  You will convert that text into a html format that is beautifully laid out for easy read.\"\n",
    "html_writer = Agent(name='html writer', instructions=html_instruction, model='gpt-4.1-nano')\n",
    "html_tool = html_writer.as_tool(tool_name='html writer tool', tool_description='converts the email text format into html format')\n"
   ]
  },
  {
   "cell_type": "code",
   "execution_count": null,
   "id": "5f0fb70b",
   "metadata": {},
   "outputs": [],
   "source": [
    "from typing import Dict\n",
    "\n",
    "def send_html_email(subject: str, body: str) -> Dict[str, str]:\n",
    "    \"\"\" Send out a html email with subject to potential client \"\"\"\n",
    "    sg = sendgrid.SendGridAPIClient(api_key=os.getenv('SENDGRID_API_KEY'))\n",
    "    from_email = Email(\"krisdas8@gmail.com\")\n",
    "    to_email = To(\"krisdas8@gmail.com\")\n",
    "    content = Content(mime_type='text/html', content=body)\n",
    "    mail = Mail(from_email, to_email, subject, content).get()\n",
    "    sg.client.mail.send.post(request_body=mail)\n",
    "    return {\"status\": \"success\"}"
   ]
  },
  {
   "cell_type": "code",
   "execution_count": null,
   "id": "5e53cfdc",
   "metadata": {},
   "outputs": [],
   "source": [
    "email_manager_instructions = \"You are an email formatter and sender.  \"\n",
    "email_manager_instructions += \"You receive an email body message in text format.  \"\n",
    "email_manager_instructions += \"You will use the subject_tool to get the subject for the email text.  \"\n",
    "email_manager_instructions += \"You will use the html_tool to convert the email body text into html format.  \"\n",
    "email_manager_instructions += \"Finally you will use send_html_email tool to send the email with the subject and html body.  \"\n",
    "\n",
    "tools = [subject_tool, html_tool, send_html_email]\n",
    "\n",
    "email_manager_agent = Agent(\n",
    "    name=\"Email Manager\", \n",
    "    instructions=email_manager_instructions,\n",
    "    tools=tools,\n",
    "    handoff_description=\"Convert an email to HTML and send it\"\n",
    "    )"
   ]
  },
  {
   "cell_type": "code",
   "execution_count": null,
   "id": "54643fac",
   "metadata": {},
   "outputs": [],
   "source": [
    "tools = [tool1, tool2, tool3]\n",
    "hand_off = [email_manager_agent]\n",
    "\n",
    "print(tools)\n",
    "print(hand_off)"
   ]
  },
  {
   "cell_type": "code",
   "execution_count": null,
   "id": "92ae9e16",
   "metadata": {},
   "outputs": [],
   "source": [
    "instructions = \"\"\"\n",
    "You are a Sales Manager at ComplAI.  Your job is to select the best cold sales email using the sales_agent tool.\n",
    "\n",
    "Follow these steps carefully:\n",
    "1. Generate drafts: Use all 3 sales_agent tools to each draft 1 unique cold sale email.  Do not proceed until all sales agent completed the draft.\n",
    "2. Evaluate and select: Evaluate and select the best draft that you think will have the highest response from the email recipient.\n",
    "3. Handoff for sending email: Use the 'Email Manager' agent to send out email.\n",
    "\n",
    "Crucial rules:\n",
    "- You must use the sales agent tools to generate the draft -- do not write them yourself.\n",
    "- You must use ONE email using the Email Manager -- never more than one.\n",
    "\"\"\"\n",
    "\n",
    "sales_manager_agent = Agent(\n",
    "    name=\"Sales Manager\",\n",
    "    instructions=instructions, \n",
    "    tools=tools, \n",
    "    handoffs=hand_off,\n",
    "    model='gpt-4.1-nano')\n",
    "\n",
    "message = \"Send a cold sales email addressed to 'Dear CEO'\"\n",
    "\n",
    "with trace(\"Automated SDR\"):\n",
    "    result = await Runner.run(starting_agent=sales_manager_agent, input=message)"
   ]
  },
  {
   "cell_type": "code",
   "execution_count": null,
   "id": "eb793d0e",
   "metadata": {},
   "outputs": [],
   "source": []
  }
 ],
 "metadata": {
  "kernelspec": {
   "display_name": ".venv",
   "language": "python",
   "name": "python3"
  },
  "language_info": {
   "codemirror_mode": {
    "name": "ipython",
    "version": 3
   },
   "file_extension": ".py",
   "mimetype": "text/x-python",
   "name": "python",
   "nbconvert_exporter": "python",
   "pygments_lexer": "ipython3",
   "version": "3.12.10"
  }
 },
 "nbformat": 4,
 "nbformat_minor": 5
}
