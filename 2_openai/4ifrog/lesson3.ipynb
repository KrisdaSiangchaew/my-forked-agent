{
 "cells": [
  {
   "cell_type": "code",
   "execution_count": null,
   "id": "4908fbc0",
   "metadata": {},
   "outputs": [],
   "source": [
    "from openai import OpenAI\n",
    "import os\n",
    "from dotenv import load_dotenv\n",
    "from IPython.display import Markdown, display\n",
    "\n",
    "load_dotenv(override=True)"
   ]
  },
  {
   "cell_type": "markdown",
   "id": "adf4f9aa",
   "metadata": {},
   "source": [
    "# Simple call"
   ]
  },
  {
   "cell_type": "code",
   "execution_count": null,
   "id": "2b4f8de4",
   "metadata": {},
   "outputs": [],
   "source": [
    "messages = [{\"role\":\"user\", \"content\":\"Give me 1 sentence differentiating between meiosis and mitosis.\"}]\n",
    "\n",
    "# OpenAI\n",
    "client = OpenAI()\n",
    "response = client.chat.completions.create(\n",
    "    messages=messages,\n",
    "    model='gpt-4.1-nano'\n",
    ")\n",
    "result = (f\"From gpt-4.1-nano: {response.choices[0].message.content}\")\n",
    "display(Markdown(result))\n",
    "\n",
    "# Other\n",
    "client = OpenAI(api_key=os.getenv('DEEPSEEK_API_KEY'), base_url=\"https://api.deepseek.com/v1\")\n",
    "response = client.chat.completions.create(\n",
    "    messages=messages,\n",
    "    model='deepseek-chat'\n",
    ")\n",
    "result = f\"From deepseek-chat: {response.choices[0].message.content}\"\n",
    "display(Markdown(result))"
   ]
  },
  {
   "cell_type": "markdown",
   "id": "f84949fa",
   "metadata": {},
   "source": [
    "# Agent"
   ]
  },
  {
   "cell_type": "code",
   "execution_count": null,
   "id": "772d86f8",
   "metadata": {},
   "outputs": [],
   "source": [
    "from agents import Agent, Runner\n",
    "from agents import AsyncOpenAI, OpenAIResponsesModel, trace\n",
    "import os"
   ]
  },
  {
   "cell_type": "code",
   "execution_count": null,
   "id": "9e73b53f",
   "metadata": {},
   "outputs": [],
   "source": [
    "instruction = \"You generate question about science that can be solved by college graduates.\"\n",
    "agent = Agent(name=\"Science Question Agent\", instructions=instruction, model='gpt-4.1-nano')\n",
    "science_question_tool = agent.as_tool(tool_name=\"question_maker_science\", tool_description=\"Ask a science question.\")"
   ]
  },
  {
   "cell_type": "code",
   "execution_count": null,
   "id": "ca1b9547",
   "metadata": {},
   "outputs": [],
   "source": [
    "instruction = \"You generate question about art history that can be solved by college graduates.\"\n",
    "agent = Agent(name='Art Question Agent', instructions=instruction, model='gpt-4.1-nano')\n",
    "art_question_tool = agent.as_tool(tool_name='question_maker_art', tool_description=\"Ask an art question.\")"
   ]
  },
  {
   "cell_type": "code",
   "execution_count": null,
   "id": "80a50632",
   "metadata": {},
   "outputs": [],
   "source": [
    "instruction = \"You provide answers to science and art history questions. Your knowledge is a college graduate level.\"\n",
    "deepseek_client = AsyncOpenAI(api_key=os.getenv('DEEPSEEK_API_CALL'), base_url='https://api.deepseek.com/v1')\n",
    "deepseek_model = OpenAIResponsesModel(model='deepseek-chat', openai_client=deepseek_client)\n",
    "agent = Agent(name='Answer Provider Agent', instructions=instruction, model=deepseek_model)\n",
    "answer_tool = agent.as_tool(tool_name='solution_provider', tool_description=\"Give an answer.\")"
   ]
  },
  {
   "cell_type": "code",
   "execution_count": null,
   "id": "694785a7",
   "metadata": {},
   "outputs": [],
   "source": [
    "lecturer_instructions = \"\"\"\n",
    "You give a question and answer. Your goal is to select\n",
    "\n",
    "Follow these steps carefully:\n",
    "1. Generate questions: Use question_maker_art and qeustion_maker_science tools to generate 2 different questions.\n",
    "2. Evaluate: Provide answers to the 2 questions by using solution_provider tool.\n",
    "3. Report: Publish the questions and answers.\n",
    "\n",
    "\"\"\"\n",
    "lecturer = Agent(\n",
    "    name=\"Lecturer\",\n",
    "    instructions=lecturer_instructions,\n",
    "    tools = [science_question_tool, art_question_tool, answer_tool],\n",
    "    model='gpt-4.1-nano'\n",
    ")\n",
    "\n",
    "message = \"Give me a question and answer so that I can learn something new today.\"\n",
    "\n",
    "with trace('QandA2'):\n",
    "    result = await Runner.run(lecturer, message)\n",
    "\n",
    "    print(result.final_output)"
   ]
  },
  {
   "cell_type": "markdown",
   "id": "62da2925",
   "metadata": {},
   "source": []
  },
  {
   "cell_type": "markdown",
   "id": "55c7c9f9",
   "metadata": {},
   "source": [
    "# Agent (Async)"
   ]
  },
  {
   "cell_type": "code",
   "execution_count": null,
   "id": "a4d391b5",
   "metadata": {},
   "outputs": [],
   "source": []
  }
 ],
 "metadata": {
  "kernelspec": {
   "display_name": ".venv",
   "language": "python",
   "name": "python3"
  },
  "language_info": {
   "codemirror_mode": {
    "name": "ipython",
    "version": 3
   },
   "file_extension": ".py",
   "mimetype": "text/x-python",
   "name": "python",
   "nbconvert_exporter": "python",
   "pygments_lexer": "ipython3",
   "version": "3.12.11"
  }
 },
 "nbformat": 4,
 "nbformat_minor": 5
}
