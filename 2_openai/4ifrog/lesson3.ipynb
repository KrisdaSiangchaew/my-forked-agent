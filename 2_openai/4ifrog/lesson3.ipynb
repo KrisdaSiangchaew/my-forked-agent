{
 "cells": [
  {
   "cell_type": "markdown",
   "id": "adf4f9aa",
   "metadata": {},
   "source": [
    "# Simple call"
   ]
  },
  {
   "cell_type": "code",
   "execution_count": 23,
   "id": "2b4f8de4",
   "metadata": {},
   "outputs": [
    {
     "data": {
      "text/markdown": [
       "From gpt-4.1-nano: Meiosis is a cell division process that reduces the chromosome number by half to produce gametes, while mitosis results in two genetically identical diploid daughter cells for growth and repair."
      ],
      "text/plain": [
       "<IPython.core.display.Markdown object>"
      ]
     },
     "metadata": {},
     "output_type": "display_data"
    },
    {
     "data": {
      "text/markdown": [
       "From deepseek-chat: Mitosis produces two genetically identical diploid cells for growth and repair, while meiosis creates four genetically unique haploid cells specifically for sexual reproduction."
      ],
      "text/plain": [
       "<IPython.core.display.Markdown object>"
      ]
     },
     "metadata": {},
     "output_type": "display_data"
    }
   ],
   "source": [
    "from openai import OpenAI\n",
    "import os\n",
    "from dotenv import load_dotenv\n",
    "from IPython.display import Markdown, display\n",
    "\n",
    "load_dotenv(override=True)\n",
    "\n",
    "messages = [{\"role\":\"user\", \"content\":\"Give me 1 sentence differentiating between meiosis and mitosis.\"}]\n",
    "\n",
    "# OpenAI\n",
    "client = OpenAI()\n",
    "response = client.chat.completions.create(\n",
    "    messages=messages,\n",
    "    model='gpt-4.1-nano'\n",
    ")\n",
    "result = (f\"From gpt-4.1-nano: {response.choices[0].message.content}\")\n",
    "display(Markdown(result))\n",
    "\n",
    "# Other\n",
    "client = OpenAI(api_key=os.getenv('DEEPSEEK_API_KEY'), base_url=\"https://api.deepseek.com/v1\")\n",
    "response = client.chat.completions.create(\n",
    "    messages=messages,\n",
    "    model='deepseek-chat'\n",
    ")\n",
    "result = f\"From deepseek-chat: {response.choices[0].message.content}\"\n",
    "display(Markdown(result))"
   ]
  },
  {
   "cell_type": "markdown",
   "id": "f84949fa",
   "metadata": {},
   "source": [
    "# Agent"
   ]
  },
  {
   "cell_type": "code",
   "execution_count": null,
   "id": "772d86f8",
   "metadata": {},
   "outputs": [
    {
     "name": "stdout",
     "output_type": "stream",
     "text": [
      "What is the mechanism by which enzymes lower the activation energy of biochemical reactions?\n"
     ]
    }
   ],
   "source": [
    "from agents import Agent, Runner\n",
    "from agents import AsyncOpenAI, OpenAIResponsesModel, trace"
   ]
  },
  {
   "cell_type": "code",
   "execution_count": 62,
   "id": "9e73b53f",
   "metadata": {},
   "outputs": [],
   "source": [
    "instruction = \"You generate question about science that can be solved by college graduates.\"\n",
    "agent = Agent(name=\"Science Question Agent\", instructions=instruction, model='gpt-4.1-nano')\n",
    "science_question_tool = agent.as_tool(tool_name=\"question_maker_science\", tool_description=\"Ask a science question.\")"
   ]
  },
  {
   "cell_type": "code",
   "execution_count": 63,
   "id": "ca1b9547",
   "metadata": {},
   "outputs": [],
   "source": [
    "instruction = \"You generate question about art history that can be solved by college graduates.\"\n",
    "agent = Agent(name='Art Question Agent', instructions=instruction, model='gpt-4.1-nano')\n",
    "art_question_tool = agent.as_tool(tool_name='question_maker_art', tool_description=\"Ask an art question.\")"
   ]
  },
  {
   "cell_type": "code",
   "execution_count": 60,
   "id": "80a50632",
   "metadata": {},
   "outputs": [],
   "source": [
    "instruction = \"You provide answers to science and art history questions. Your knowledge is a college graduate level.\"\n",
    "agent = Agent(name='Answer Provider Agent', instructions=instruction, model='gpt-4.1-nano')\n",
    "answer_tool = agent.as_tool(tool_name='solution_provider', tool_description=\"Give an answer.\")"
   ]
  },
  {
   "cell_type": "code",
   "execution_count": 67,
   "id": "694785a7",
   "metadata": {},
   "outputs": [
    {
     "name": "stdout",
     "output_type": "stream",
     "text": [
      "Here are two questions and their answers to help you learn something new today:\n",
      "\n",
      "**Art Question:**  \n",
      "How did the Romantic movement’s emphasis on emotion and individualism manifest in the works of J.M.W. Turner and Eugène Delacroix, and in what ways did their approaches differ in portraying nature and human experience?\n",
      "\n",
      "**Art Answer:**  \n",
      "This question invites an analysis of Romanticism's core ideals by comparing Turner’s atmospheric, often tumultuous landscapes and seascapes with Delacroix’s vivid, expressive scenes and figure paintings. Turner’s work emphasizes the sublime power of nature through luminous, dynamic compositions often depicting natural phenomena, while Delacroix channels intense emotional expression and drama through vibrant color and energetic brushwork. Their differing techniques and subject matter illustrate the broad spectrum of Romantic artistic philosophy, with Turner focusing on nature’s awe-inspiring aspect and Delacroix emphasizing passionate human experience.\n",
      "\n",
      "**Science Question:**  \n",
      "How does the process of photosynthesis convert light energy into chemical energy, and what are the key molecules involved in this transformation?\n",
      "\n",
      "**Science Answer:**  \n",
      "Photosynthesis converts light energy into chemical energy through a series of reactions primarily occurring in the chloroplasts of plant cells. The key molecules involved are chlorophyll (which captures light energy), water (which is split to release electrons and oxygen), carbon dioxide (which is fixed into organic molecules), and glucose (the stored chemical energy). The process involves the light-dependent reactions, where light energy excites electrons leading to the formation of ATP and NADPH, and the Calvin cycle, where these molecules power the conversion of carbon dioxide into glucose.\n"
     ]
    }
   ],
   "source": [
    "lecturer_instructions = \"\"\"\n",
    "You give a question and answer. Your goal is to select\n",
    "\n",
    "Follow these steps carefully:\n",
    "1. Generate questions: Use question_maker_art and qeustion_maker_science tools to generate 2 different questions.\n",
    "2. Evaluate: Provide answers to the 2 questions by using solution_provider tool.\n",
    "3. Report: Publish the questions and answers.\n",
    "\n",
    "\"\"\"\n",
    "lecturer = Agent(\n",
    "    name=\"Lecturer\",\n",
    "    instructions=lecturer_instructions,\n",
    "    tools = [science_question_tool, art_question_tool, answer_tool],\n",
    "    model='gpt-4.1-nano'\n",
    ")\n",
    "\n",
    "message = \"Give me a question and answer so that I can learn something new today.\"\n",
    "\n",
    "with trace('QandA2'):\n",
    "    result = await Runner.run(lecturer, message)\n",
    "\n",
    "    print(result.final_output)"
   ]
  },
  {
   "cell_type": "markdown",
   "id": "62da2925",
   "metadata": {},
   "source": []
  },
  {
   "cell_type": "markdown",
   "id": "55c7c9f9",
   "metadata": {},
   "source": [
    "# Agent (Async)"
   ]
  },
  {
   "cell_type": "code",
   "execution_count": null,
   "id": "a4d391b5",
   "metadata": {},
   "outputs": [],
   "source": []
  }
 ],
 "metadata": {
  "kernelspec": {
   "display_name": ".venv",
   "language": "python",
   "name": "python3"
  },
  "language_info": {
   "codemirror_mode": {
    "name": "ipython",
    "version": 3
   },
   "file_extension": ".py",
   "mimetype": "text/x-python",
   "name": "python",
   "nbconvert_exporter": "python",
   "pygments_lexer": "ipython3",
   "version": "3.12.7"
  }
 },
 "nbformat": 4,
 "nbformat_minor": 5
}
