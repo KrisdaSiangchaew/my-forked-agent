{
 "cells": [
  {
   "cell_type": "markdown",
   "id": "adf4f9aa",
   "metadata": {},
   "source": [
    "# Simple call"
   ]
  },
  {
   "cell_type": "code",
   "execution_count": 23,
   "id": "2b4f8de4",
   "metadata": {},
   "outputs": [
    {
     "data": {
      "text/markdown": [
       "From gpt-4.1-nano: Meiosis is a cell division process that reduces the chromosome number by half to produce gametes, while mitosis results in two genetically identical diploid daughter cells for growth and repair."
      ],
      "text/plain": [
       "<IPython.core.display.Markdown object>"
      ]
     },
     "metadata": {},
     "output_type": "display_data"
    },
    {
     "data": {
      "text/markdown": [
       "From deepseek-chat: Mitosis produces two genetically identical diploid cells for growth and repair, while meiosis creates four genetically unique haploid cells specifically for sexual reproduction."
      ],
      "text/plain": [
       "<IPython.core.display.Markdown object>"
      ]
     },
     "metadata": {},
     "output_type": "display_data"
    }
   ],
   "source": [
    "from openai import OpenAI\n",
    "import os\n",
    "from dotenv import load_dotenv\n",
    "from IPython.display import Markdown, display\n",
    "\n",
    "load_dotenv(override=True)\n",
    "\n",
    "messages = [{\"role\":\"user\", \"content\":\"Give me 1 sentence differentiating between meiosis and mitosis.\"}]\n",
    "\n",
    "# OpenAI\n",
    "client = OpenAI()\n",
    "response = client.chat.completions.create(\n",
    "    messages=messages,\n",
    "    model='gpt-4.1-nano'\n",
    ")\n",
    "result = (f\"From gpt-4.1-nano: {response.choices[0].message.content}\")\n",
    "display(Markdown(result))\n",
    "\n",
    "# Other\n",
    "client = OpenAI(api_key=os.getenv('DEEPSEEK_API_KEY'), base_url=\"https://api.deepseek.com/v1\")\n",
    "response = client.chat.completions.create(\n",
    "    messages=messages,\n",
    "    model='deepseek-chat'\n",
    ")\n",
    "result = f\"From deepseek-chat: {response.choices[0].message.content}\"\n",
    "display(Markdown(result))"
   ]
  },
  {
   "cell_type": "markdown",
   "id": "f84949fa",
   "metadata": {},
   "source": [
    "# Agent"
   ]
  },
  {
   "cell_type": "code",
   "execution_count": 9,
   "id": "772d86f8",
   "metadata": {},
   "outputs": [],
   "source": [
    "from agents import Agent, Runner\n",
    "from agents import AsyncOpenAI, OpenAIResponsesModel, trace\n",
    "import os"
   ]
  },
  {
   "cell_type": "code",
   "execution_count": 2,
   "id": "9e73b53f",
   "metadata": {},
   "outputs": [],
   "source": [
    "instruction = \"You generate question about science that can be solved by college graduates.\"\n",
    "agent = Agent(name=\"Science Question Agent\", instructions=instruction, model='gpt-4.1-nano')\n",
    "science_question_tool = agent.as_tool(tool_name=\"question_maker_science\", tool_description=\"Ask a science question.\")"
   ]
  },
  {
   "cell_type": "code",
   "execution_count": 3,
   "id": "ca1b9547",
   "metadata": {},
   "outputs": [],
   "source": [
    "instruction = \"You generate question about art history that can be solved by college graduates.\"\n",
    "agent = Agent(name='Art Question Agent', instructions=instruction, model='gpt-4.1-nano')\n",
    "art_question_tool = agent.as_tool(tool_name='question_maker_art', tool_description=\"Ask an art question.\")"
   ]
  },
  {
   "cell_type": "code",
   "execution_count": 10,
   "id": "80a50632",
   "metadata": {},
   "outputs": [],
   "source": [
    "instruction = \"You provide answers to science and art history questions. Your knowledge is a college graduate level.\"\n",
    "deepseek_client = AsyncOpenAI(api_key=os.getenv('DEEPSEEK_API_CALL'), base_url='https://api.deepseek.com/v1')\n",
    "deepseek_model = OpenAIResponsesModel(model='deepseek-chat', openai_client=deepseek_client)\n",
    "agent = Agent(name='Answer Provider Agent', instructions=instruction, model=deepseek_model)\n",
    "answer_tool = agent.as_tool(tool_name='solution_provider', tool_description=\"Give an answer.\")"
   ]
  },
  {
   "cell_type": "code",
   "execution_count": 11,
   "id": "694785a7",
   "metadata": {},
   "outputs": [
    {
     "name": "stderr",
     "output_type": "stream",
     "text": [
      "Error getting response: Error code: 404 - {'error_msg': 'Not Found. Please check the configuration.'}. (request_id: None)\n",
      "Error getting response: Error code: 404 - {'error_msg': 'Not Found. Please check the configuration.'}. (request_id: None)\n"
     ]
    },
    {
     "name": "stdout",
     "output_type": "stream",
     "text": [
      "I encountered an issue while trying to retrieve the answers. However, I can provide you with the answers:\n",
      "\n",
      "**Art Question:** The development of linear perspective during the Renaissance allowed artists to create the illusion of depth on a flat surface, making their paintings more realistic. It introduced a systematic way to depict spatial relationships and scale, revolutionizing visual representation and influencing countless artists and artworks.\n",
      "\n",
      "**Science Question:** Photosynthesis converts light energy into chemical energy through a process that occurs in two main stages: the light-dependent reactions and the Calvin cycle. In the first stage, light energy is absorbed by chlorophyll and used to split water molecules, releasing oxygen and producing ATP and NADPH. In the second stage, these energy carriers help convert carbon dioxide into glucose, storing chemical energy for the plant.\n"
     ]
    }
   ],
   "source": [
    "lecturer_instructions = \"\"\"\n",
    "You give a question and answer. Your goal is to select\n",
    "\n",
    "Follow these steps carefully:\n",
    "1. Generate questions: Use question_maker_art and qeustion_maker_science tools to generate 2 different questions.\n",
    "2. Evaluate: Provide answers to the 2 questions by using solution_provider tool.\n",
    "3. Report: Publish the questions and answers.\n",
    "\n",
    "\"\"\"\n",
    "lecturer = Agent(\n",
    "    name=\"Lecturer\",\n",
    "    instructions=lecturer_instructions,\n",
    "    tools = [science_question_tool, art_question_tool, answer_tool],\n",
    "    model='gpt-4.1-nano'\n",
    ")\n",
    "\n",
    "message = \"Give me a question and answer so that I can learn something new today.\"\n",
    "\n",
    "with trace('QandA2'):\n",
    "    result = await Runner.run(lecturer, message)\n",
    "\n",
    "    print(result.final_output)"
   ]
  },
  {
   "cell_type": "markdown",
   "id": "62da2925",
   "metadata": {},
   "source": []
  },
  {
   "cell_type": "markdown",
   "id": "55c7c9f9",
   "metadata": {},
   "source": [
    "# Agent (Async)"
   ]
  },
  {
   "cell_type": "code",
   "execution_count": null,
   "id": "a4d391b5",
   "metadata": {},
   "outputs": [],
   "source": []
  }
 ],
 "metadata": {
  "kernelspec": {
   "display_name": ".venv",
   "language": "python",
   "name": "python3"
  },
  "language_info": {
   "codemirror_mode": {
    "name": "ipython",
    "version": 3
   },
   "file_extension": ".py",
   "mimetype": "text/x-python",
   "name": "python",
   "nbconvert_exporter": "python",
   "pygments_lexer": "ipython3",
   "version": "3.12.11"
  }
 },
 "nbformat": 4,
 "nbformat_minor": 5
}
