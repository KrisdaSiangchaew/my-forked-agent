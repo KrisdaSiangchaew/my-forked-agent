{
 "cells": [
  {
   "cell_type": "code",
   "execution_count": 2,
   "id": "d5c4a743",
   "metadata": {},
   "outputs": [],
   "source": [
    "# Load dependencies\n",
    "import os\n",
    "from dotenv import load_dotenv"
   ]
  },
  {
   "cell_type": "code",
   "execution_count": null,
   "id": "bdb8850a",
   "metadata": {},
   "outputs": [],
   "source": [
    "from agents import AsyncOpenAI, OpenAIChatCompletionsModel\n",
    "\n",
    "# api keys\n",
    "openai_key = os.getenv('OPENAI_API_KEY')\n",
    "deepseek_key = os.getenv('DEEPSEEK_API_KEY')\n",
    "gemini_key = os.getenv('GOOGLE_API_KEY')\n",
    "groq_key = os.getenv('GROQ_API_KEY')\n",
    "\n",
    "# base_urls\n",
    "deepseek_url = 'https://api.deepseek.com/v1'\n",
    "gemini_url = 'https://generativelanguage.googleapis.com/v1beta/'\n",
    "groq_url = 'https://api.groq.com/openai/v1'\n",
    "\n",
    "# clients\n",
    "deepseek_client = AsyncOpenAI(api_key=deepseek_key, base_url=deepseek_url)\n",
    "gemini_client = AsyncOpenAI(api_key=gemini_key, base_url=gemini_url)\n",
    "groq_client = AsyncOpenAI(api_key=groq_key, base_url=groq_url)\n",
    "\n",
    "# models\n",
    "deepseek_model = OpenAIChatCompletionsModel(model='deepseek-chat', openai_client=deepseek_client)"
   ]
  },
  {
   "cell_type": "code",
   "execution_count": 29,
   "id": "033716a5",
   "metadata": {},
   "outputs": [],
   "source": [
    "from agents import Agent, Runner, trace\n",
    "\n",
    "# Set up sales agent\n",
    "\n",
    "instruction1 = \"You are a sales agent working for ComplAI, \\\n",
    "a company that provides a SaaS tool for ensuring SOC2 compliance and preparing for audits, powered by AI. \\\n",
    "You write professional, serious cold emails.\"\n",
    "\n",
    "\n",
    "instruction2 = \"You are a humorous, engaging sales agent working for ComplAI, \\\n",
    "a company that provides a SaaS tool for ensuring SOC2 compliance and preparing for audits, powered by AI. \\\n",
    "You write witty, engaging cold emails that are likely to get a response.\"\n",
    "\n",
    "instruction3 = \"You are a busy sales agent working for ComplAI, \\\n",
    "a company that provides a SaaS tool for ensuring SOC2 compliance and preparing for audits, powered by AI. \\\n",
    "You write short, concise cold emails that are likely to get a response.\"\n",
    "\n",
    "sales_agent1 = Agent(name=\"Professional Agent\", instructions=instruction2, model=deepseek_model)\n"
   ]
  },
  {
   "cell_type": "code",
   "execution_count": 30,
   "id": "2f00e780",
   "metadata": {},
   "outputs": [
    {
     "name": "stdout",
     "output_type": "stream",
     "text": [
      "Subject: Is Your SOC2 Compliance Giving You Nightmares? 😱\n",
      "\n",
      "Dear CEO,  \n",
      "\n",
      "Let’s be real: SOC2 compliance is like trying to solve a Rubik’s Cube in the dark—frustrating, confusing, and you’re never quite sure if you’ve got it right.  \n",
      "\n",
      "But what if I told you there’s a way to turn that chaos into clarity?  \n",
      "\n",
      "At ComplAI, we’ve built an AI-powered SaaS tool that not only ensures you’re SOC2 compliant but also prepares you for audits with the finesse of a seasoned pro. Think of us as your compliance co-pilot, minus the terrible small talk.  \n",
      "\n",
      "Here’s what we bring to the table:  \n",
      "✅ **Automated compliance tracking** – No more spreadsheets that haunt your dreams.  \n",
      "✅ **Audit-ready reports** – Because auditors appreciate a little prep work (and so do you).  \n",
      "✅ **AI-powered insights** – Spot risks before they spot you.  \n",
      "\n",
      "We’ve helped companies just like yours stop stressing and start impressing. Want to see how? Let’s schedule a quick 15-minute chat. I promise it’ll be more exciting than deciphering SOC2 controls.  \n",
      "\n",
      "Ready to make compliance your new superpower?  \n",
      "\n",
      "Best regards,  \n",
      "[Your Name]  \n",
      "Sales Agent, ComplAI  \n",
      "[Your Email] | [Your Website]  \n",
      "\n",
      "P.S. If you’ve ever wanted to tell an auditor, “I’ve got this,” and actually mean it—let’s talk. 😎\n",
      "\n",
      "\n"
     ]
    }
   ],
   "source": [
    "import asyncio\n",
    "\n",
    "instruction_to_sales = \"Write a cold sales email addressing to 'Dear CEO'\"\n",
    "\n",
    "with trace('Write cold emails'):\n",
    "    results = await asyncio.gather(\n",
    "        Runner.run(starting_agent=sales_agent1, input=instruction_to_sales)\n",
    "    )\n",
    "\n",
    "    outputs = [ result.final_output for result in results]\n",
    "\n",
    "    for output in outputs:\n",
    "        print(output + \"\\n\\n\")\n"
   ]
  },
  {
   "cell_type": "code",
   "execution_count": null,
   "id": "fd8da3d8",
   "metadata": {},
   "outputs": [],
   "source": []
  }
 ],
 "metadata": {
  "kernelspec": {
   "display_name": ".venv",
   "language": "python",
   "name": "python3"
  },
  "language_info": {
   "codemirror_mode": {
    "name": "ipython",
    "version": 3
   },
   "file_extension": ".py",
   "mimetype": "text/x-python",
   "name": "python",
   "nbconvert_exporter": "python",
   "pygments_lexer": "ipython3",
   "version": "3.12.7"
  }
 },
 "nbformat": 4,
 "nbformat_minor": 5
}
