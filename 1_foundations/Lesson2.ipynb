{
 "cells": [
  {
   "cell_type": "code",
   "execution_count": 29,
   "id": "b191efe3",
   "metadata": {},
   "outputs": [],
   "source": [
    "# Import necessary library\n",
    "from pypdf import PdfReader\n",
    "\n",
    "import os\n",
    "from dotenv import load_dotenv\n",
    "from openai import OpenAI\n",
    "\n",
    "from IPython.display import display, Markdown\n",
    "import gradio as gr"
   ]
  },
  {
   "cell_type": "code",
   "execution_count": 17,
   "id": "2a7a0a2c",
   "metadata": {},
   "outputs": [],
   "source": [
    "# Read the pdf file\n",
    "linkedin_text = ''\n",
    "file_name = './me/linkedin.pdf'\n",
    "\n",
    "reader = PdfReader(file_name)\n",
    "\n",
    "for page_num in range(len(reader.pages)):\n",
    "    page = reader.pages[page_num]\n",
    "    text = page.extract_text()\n",
    "    if text:\n",
    "        linkedin_text += text + '\\n'"
   ]
  },
  {
   "cell_type": "code",
   "execution_count": null,
   "id": "17461e63",
   "metadata": {},
   "outputs": [],
   "source": [
    "# Read the summary file\n",
    "summary_text = ''\n",
    "file_name = './me/summary.txt'\n",
    "\n",
    "try:\n",
    "    with open(file_name, 'r') as f:\n",
    "        summary_text = f.read()\n",
    "except FileNotFoundError:\n",
    "    print('File not found')\n",
    "except Exception as e:\n",
    "    print(f'Error: {e}')"
   ]
  },
  {
   "cell_type": "code",
   "execution_count": 33,
   "id": "0a306671",
   "metadata": {},
   "outputs": [],
   "source": [
    "# Write a system prompt\n",
    "name = 'Ed Donner'\n",
    "\n",
    "# Write a system prompt instructing what to do.\n",
    "# Add to the prompt the resume and summary text.\n",
    "system_prompt = f'You are acting as {name}.'\n",
    "system_prompt = f'You are answering questions on {name} website particularly questions regarding {name} career, background, and experience.'\n",
    "system_prompt = f'Your responsibility is to represent {name} for interactions on the website as faithfully as possible.'\n",
    "# system_prompt = f'Be professional and engaging, as if talking to future employer or potential client.'\n",
    "system_prompt = f'Be cute and playful, as if talking to a friend or an acquaintance.'\n",
    "system_prompt += f'If you do not know the answer, just say so. Do not invention the answer.'\n",
    "system_prompt += f'Here is some information about {name} that you may refer to in answering those questions.\\n\\n'\n",
    "system_prompt += f'\\n\\nHere is {name} Linkedin information. \\n\\n {linkedin_text}\\n\\n'\n",
    "system_prompt += f'\\n\\nSome more information about {name} is here.\\n\\n {summary_text}\\n\\n'\n",
    "system_prompt += f'With this context, chat with the user. Always stay in character as {name}.'\n"
   ]
  },
  {
   "cell_type": "code",
   "execution_count": 24,
   "id": "42ea4163",
   "metadata": {},
   "outputs": [],
   "source": [
    "# Set up client\n",
    "load_dotenv()\n",
    "\n",
    "client = OpenAI(api_key=os.getenv('DEEPSEEK_API_KEY'), base_url='https://api.deepseek.com/v1')"
   ]
  },
  {
   "cell_type": "code",
   "execution_count": 34,
   "id": "7b1237c5",
   "metadata": {},
   "outputs": [],
   "source": [
    "# Write a chat function for Gradio to interact with the user\n",
    "def chat(message, history):\n",
    "    messages = [{'role': 'system', 'content': system_prompt}] + history + [{'role': 'user', 'content': message}]\n",
    "    response = client.chat.completions.create(\n",
    "        model='deepseek-chat',\n",
    "        messages=messages\n",
    "    )\n",
    "\n",
    "    return response.choices[0].message.content"
   ]
  },
  {
   "cell_type": "code",
   "execution_count": null,
   "id": "9dc29e2a",
   "metadata": {},
   "outputs": [],
   "source": [
    "gr.ChatInterface(chat, type='messages').launch()#share=True)"
   ]
  },
  {
   "cell_type": "code",
   "execution_count": null,
   "id": "a2e56954",
   "metadata": {},
   "outputs": [],
   "source": [
    "# setting up evaluator prompt\n",
    "evaluator_prompt = f\"You are to evaluate whether a response to a question is acceptable.\"\n",
    "evaluator_prompt = f\"You are given a conversation between Agent and User.\"\n",
    "evaluator_prompt += f\"The Agent was instructed to represent {name} as faithfully as possible.\"\n",
    "evaluator_prompt += f\"The agent was also instructed to be cute and playful, as if talking to a friend or an acquaintance.\"\n",
    "evaluator_prompt += f\"Your task is to evaluate whether the agent response met the instruction.\"\n",
    "evaluator_prompt += f\"The \""
   ]
  }
 ],
 "metadata": {
  "kernelspec": {
   "display_name": ".venv",
   "language": "python",
   "name": "python3"
  },
  "language_info": {
   "codemirror_mode": {
    "name": "ipython",
    "version": 3
   },
   "file_extension": ".py",
   "mimetype": "text/x-python",
   "name": "python",
   "nbconvert_exporter": "python",
   "pygments_lexer": "ipython3",
   "version": "3.12.7"
  }
 },
 "nbformat": 4,
 "nbformat_minor": 5
}
