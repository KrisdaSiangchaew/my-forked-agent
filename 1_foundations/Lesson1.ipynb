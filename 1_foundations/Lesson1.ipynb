{
 "cells": [
  {
   "cell_type": "code",
   "execution_count": 3,
   "id": "0a9f5f58",
   "metadata": {},
   "outputs": [],
   "source": [
    "from openai import OpenAI\n",
    "import os\n",
    "from dotenv import load_dotenv\n",
    "from IPython.display import display, Markdown"
   ]
  },
  {
   "cell_type": "code",
   "execution_count": 41,
   "id": "8a7109bd",
   "metadata": {},
   "outputs": [],
   "source": [
    "openai_api=os.getenv('OPENAI_API_KEY')\n",
    "\n",
    "deepseek_api=os.getenv('DEEPSEEK_API_KEY')\n",
    "\n",
    "anthropic_api=os.getenv('ANTHROPIC_API_KEY')\n",
    "\n",
    "google_api=os.getenv('GOOGLE_API_KEY')\n",
    "\n",
    "groq_api=os.getenv('GROQ_API_KEY')"
   ]
  },
  {
   "cell_type": "code",
   "execution_count": 42,
   "id": "ceba0057",
   "metadata": {},
   "outputs": [],
   "source": [
    "models = {\n",
    "    'gpt-4.1-nano': openai_api,\n",
    "    'deepseek-chat': deepseek_api, \n",
    "    'xxx': anthropic_api,\n",
    "    'xxx': google_api,\n",
    "    'xxx': groq_api\n",
    "}\n"
   ]
  },
  {
   "cell_type": "code",
   "execution_count": 47,
   "id": "166e28bd",
   "metadata": {},
   "outputs": [
    {
     "data": {
      "text/plain": [
       "dict_keys(['gpt-4.1-nano', 'deepseek-chat', 'xxx'])"
      ]
     },
     "execution_count": 47,
     "metadata": {},
     "output_type": "execute_result"
    }
   ],
   "source": [
    "models.keys()"
   ]
  },
  {
   "cell_type": "code",
   "execution_count": 8,
   "id": "14604d8d",
   "metadata": {},
   "outputs": [],
   "source": [
    "client = OpenAI(api_key=os.getenv('OPENAI_API_KEY'))\n",
    "\n",
    "response = client.chat.completions.create(\n",
    "    messages=[{\"role\": \"user\", \"content\": \"What is capital of Japan\"}],\n",
    "    model='gpt-4.1-nano'\n",
    ")"
   ]
  },
  {
   "cell_type": "code",
   "execution_count": 12,
   "id": "a1a3f3d2",
   "metadata": {},
   "outputs": [
    {
     "data": {
      "text/plain": [
       "'The capital of Japan is Tokyo.'"
      ]
     },
     "execution_count": 12,
     "metadata": {},
     "output_type": "execute_result"
    }
   ],
   "source": [
    "response.choices[0].message.content"
   ]
  },
  {
   "cell_type": "code",
   "execution_count": null,
   "id": "57f55c43",
   "metadata": {},
   "outputs": [],
   "source": []
  }
 ],
 "metadata": {
  "kernelspec": {
   "display_name": ".venv",
   "language": "python",
   "name": "python3"
  },
  "language_info": {
   "codemirror_mode": {
    "name": "ipython",
    "version": 3
   },
   "file_extension": ".py",
   "mimetype": "text/x-python",
   "name": "python",
   "nbconvert_exporter": "python",
   "pygments_lexer": "ipython3",
   "version": "3.12.11"
  }
 },
 "nbformat": 4,
 "nbformat_minor": 5
}
