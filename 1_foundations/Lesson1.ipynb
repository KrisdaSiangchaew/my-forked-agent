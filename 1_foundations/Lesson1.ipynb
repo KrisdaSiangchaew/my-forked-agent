{
 "cells": [
  {
   "cell_type": "code",
   "execution_count": null,
   "id": "0a9f5f58",
   "metadata": {},
   "outputs": [],
   "source": [
    "from openai import OpenAI\n",
    "import os\n",
    "from dotenv import load_dotenv\n",
    "from IPython.display import Markup, display"
   ]
  },
  {
   "cell_type": "code",
   "execution_count": null,
   "id": "14604d8d",
   "metadata": {},
   "outputs": [],
   "source": [
    "client = OpenAI(api_key=os.getenv('OPENAI_API_KEY'))\n",
    "\n",
    "response = client.chat.completion.create(\n",
    "    messages=[{\"role\": \"user\", \"content\": \"What is capital of Japan\"}],\n",
    "    model='gpt-4.1-nano'\n",
    ")\n",
    "\n"
   ]
  }
 ],
 "metadata": {
  "kernelspec": {
   "display_name": ".venv",
   "language": "python",
   "name": "python3"
  },
  "language_info": {
   "codemirror_mode": {
    "name": "ipython",
    "version": 3
   },
   "file_extension": ".py",
   "mimetype": "text/x-python",
   "name": "python",
   "nbconvert_exporter": "python",
   "pygments_lexer": "ipython3",
   "version": "3.12.11"
  }
 },
 "nbformat": 4,
 "nbformat_minor": 5
}
