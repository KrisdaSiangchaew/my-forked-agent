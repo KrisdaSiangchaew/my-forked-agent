{
 "cells": [
  {
   "cell_type": "code",
   "execution_count": 2,
   "id": "0a9f5f58",
   "metadata": {},
   "outputs": [],
   "source": [
    "from openai import OpenAI\n",
    "import os\n",
    "from dotenv import load_dotenv\n",
    "from IPython.display import display, Markdown"
   ]
  },
  {
   "cell_type": "code",
   "execution_count": 3,
   "id": "aa4adc6a",
   "metadata": {},
   "outputs": [
    {
     "data": {
      "text/plain": [
       "True"
      ]
     },
     "execution_count": 3,
     "metadata": {},
     "output_type": "execute_result"
    }
   ],
   "source": [
    "load_dotenv(override=True)"
   ]
  },
  {
   "cell_type": "code",
   "execution_count": 4,
   "id": "14604d8d",
   "metadata": {},
   "outputs": [
    {
     "data": {
      "text/markdown": [
       "Suppose the prior probability that a patient has a certain disease is 0.01. A diagnostic test for this disease has a sensitivity of 90% (probability of a positive test given the disease) and a specificity of 95% (probability of a negative test given no disease). If the patient tests positive, what is the posterior probability that the patient actually has the disease?"
      ],
      "text/plain": [
       "<IPython.core.display.Markdown object>"
      ]
     },
     "metadata": {},
     "output_type": "display_data"
    }
   ],
   "source": [
    "# Question\n",
    "content = 'Give a challenging question based on Bayesian statistics.'\n",
    "content += 'The answer to the question should be a calculated quantity.'\n",
    "content += 'Please provide only the question with minimum inputs.'\n",
    "content += 'It is expected that the entity solving the question should make assumption and/or looking up supporting data.'\n",
    "content += 'I will ask this question to another LLM for the answer.'\n",
    "\n",
    "openai_api=os.getenv('OPENAI_API_KEY')\n",
    "\n",
    "client = OpenAI(api_key=os.getenv('OPENAI_API_KEY'))\n",
    "\n",
    "response = client.chat.completions.create(\n",
    "    messages=[{\"role\": \"user\", \"content\": content}],\n",
    "    model='gpt-4.1-nano'\n",
    ")\n",
    "\n",
    "question = response.choices[0].message.content\n",
    "\n",
    "display(Markdown(question))"
   ]
  },
  {
   "cell_type": "code",
   "execution_count": 28,
   "id": "7f1d9cea",
   "metadata": {},
   "outputs": [],
   "source": [
    "answers = []\n",
    "competitors = []"
   ]
  },
  {
   "cell_type": "code",
   "execution_count": 29,
   "id": "57f55c43",
   "metadata": {},
   "outputs": [],
   "source": [
    "# Answer Deepseek\n",
    "client = OpenAI(api_key=os.getenv('DEEPSEEK_API_KEY'), base_url='https://api.deepseek.com/v1')\n",
    "model = 'deepseek-chat'\n",
    "\n",
    "response = client.chat.completions.create(\n",
    "        model=model,\n",
    "        messages=[{\"role\": \"user\", \"content\": question}],\n",
    "    )\n",
    "\n",
    "answer = response.choices[0].message.content\n",
    "\n",
    "competitors.append(model)\n",
    "answers.append(answer)"
   ]
  },
  {
   "cell_type": "code",
   "execution_count": 31,
   "id": "ef7d4d0a",
   "metadata": {},
   "outputs": [],
   "source": [
    "# Answer Anthropic\n",
    "from anthropic import Anthropic\n",
    "\n",
    "client = Anthropic(api_key=os.getenv('ANTHROPIC_API_KEY'))\n",
    "model = 'claude-3-7-sonnet-latest'\n",
    "\n",
    "response = client.messages.create(\n",
    "    model=model,\n",
    "    messages = [{\"role\": \"user\", \"content\": question}],\n",
    "    max_tokens=1000,\n",
    ")\n",
    "\n",
    "answer = response.content[0].text\n",
    "\n",
    "competitors.append(model)\n",
    "answers.append(answer)"
   ]
  },
  {
   "cell_type": "code",
   "execution_count": 33,
   "id": "41c69d80",
   "metadata": {},
   "outputs": [],
   "source": [
    "# Answer Groq\n",
    "client = OpenAI(api_key=os.getenv('GROQ_API_KEY'), base_url='https://api.groq.com/openai/v1')\n",
    "model = 'llama-3.3-70b-versatile'\n",
    "\n",
    "response = client.chat.completions.create(\n",
    "    messages=[{'role': 'user', 'content': question}],\n",
    "    model = model,\n",
    "    max_tokens=1000\n",
    ")\n",
    "\n",
    "answer = response.choices[0].message.content\n",
    "\n",
    "competitors.append(model)\n",
    "answers.append(answer)"
   ]
  },
  {
   "cell_type": "code",
   "execution_count": 34,
   "id": "a634be49",
   "metadata": {},
   "outputs": [],
   "source": [
    "# Answer Google Gemini\n",
    "# client = OpenAI(api_key=os.getenv('GOOGLE_API_KEY'))\n",
    "# model = 'gemini-2.0-flash'\n",
    "\n",
    "# response = client.chat.completions.create(\n",
    "#     model=model,\n",
    "#     messages=[{'role': 'user', 'content': question}],\n",
    "#     max_tokens=1000\n",
    "# )\n",
    "\n",
    "# answer = response.choices[0].message.content\n",
    "\n",
    "# competitors.append(model)\n",
    "# answers.append(answer)"
   ]
  },
  {
   "cell_type": "code",
   "execution_count": 37,
   "id": "74f6e7c8",
   "metadata": {},
   "outputs": [
    {
     "data": {
      "text/plain": [
       "3"
      ]
     },
     "execution_count": 37,
     "metadata": {},
     "output_type": "execute_result"
    }
   ],
   "source": [
    "len(answers)"
   ]
  },
  {
   "cell_type": "code",
   "execution_count": null,
   "id": "64589654",
   "metadata": {},
   "outputs": [],
   "source": []
  }
 ],
 "metadata": {
  "kernelspec": {
   "display_name": ".venv",
   "language": "python",
   "name": "python3"
  },
  "language_info": {
   "codemirror_mode": {
    "name": "ipython",
    "version": 3
   },
   "file_extension": ".py",
   "mimetype": "text/x-python",
   "name": "python",
   "nbconvert_exporter": "python",
   "pygments_lexer": "ipython3",
   "version": "3.12.7"
  }
 },
 "nbformat": 4,
 "nbformat_minor": 5
}
