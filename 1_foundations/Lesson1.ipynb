{
 "cells": [
  {
   "cell_type": "code",
   "execution_count": 1,
   "id": "0a9f5f58",
   "metadata": {},
   "outputs": [],
   "source": [
    "from openai import OpenAI\n",
    "import os\n",
    "from dotenv import load_dotenv\n",
    "from IPython.display import display, Markdown"
   ]
  },
  {
   "cell_type": "code",
   "execution_count": 10,
   "id": "aa4adc6a",
   "metadata": {},
   "outputs": [
    {
     "data": {
      "text/plain": [
       "True"
      ]
     },
     "execution_count": 10,
     "metadata": {},
     "output_type": "execute_result"
    }
   ],
   "source": [
    "load_dotenv(override=True)"
   ]
  },
  {
   "cell_type": "code",
   "execution_count": 11,
   "id": "8a7109bd",
   "metadata": {},
   "outputs": [],
   "source": [
    "openai_api=os.getenv('OPENAI_API_KEY')\n",
    "deepseek_api=os.getenv('DEEPSEEK_API_KEY')\n",
    "anthropic_api=os.getenv('ANTHROPIC_API_KEY')\n",
    "google_api=os.getenv('GOOGLE_API_KEY')\n",
    "groq_api=os.getenv('GROQ_API_KEY')"
   ]
  },
  {
   "cell_type": "code",
   "execution_count": 24,
   "id": "14604d8d",
   "metadata": {},
   "outputs": [],
   "source": [
    "# Question\n",
    "content = 'Give a challenging question based on Bayesian statistics.'\n",
    "content += 'The answer to the question should be a calculated quantity.'\n",
    "content += 'Please provide only the question with minimum inputs.'\n",
    "content += 'It is expected that the entity solving the question should make assumption and/or looking up supporting data.'\n",
    "content += 'I will ask this question to another LLM for the answer.'\n",
    "\n",
    "client = OpenAI(api_key=os.getenv('OPENAI_API_KEY'))\n",
    "\n",
    "response = client.chat.completions.create(\n",
    "    messages=[{\"role\": \"user\", \"content\": content}],\n",
    "    model='gpt-4.1-nano'\n",
    ")"
   ]
  },
  {
   "cell_type": "code",
   "execution_count": 25,
   "id": "a1a3f3d2",
   "metadata": {},
   "outputs": [
    {
     "data": {
      "text/markdown": [
       "Suppose that in a certain region, the prevalence of a disease is 2%. A diagnostic test for the disease has a sensitivity (true positive rate) of 95% and a specificity (true negative rate) of 90%. If a person tests positive, what is the posterior probability that they actually have the disease?"
      ],
      "text/plain": [
       "<IPython.core.display.Markdown object>"
      ]
     },
     "metadata": {},
     "output_type": "display_data"
    }
   ],
   "source": [
    "question = response.choices[0].message.content\n",
    "\n",
    "display(Markdown(question))"
   ]
  },
  {
   "cell_type": "code",
   "execution_count": 26,
   "id": "57f55c43",
   "metadata": {},
   "outputs": [
    {
     "data": {
      "text/markdown": [
       "Alright, let's go step-by-step.\n",
       "\n",
       "---\n",
       "\n",
       "## **1. Define events and known probabilities**\n",
       "\n",
       "Let:\n",
       "\n",
       "- \\( D \\) = person has the disease  \n",
       "- \\( T^+ \\) = person tests positive  \n",
       "\n",
       "Given:\n",
       "\n",
       "\\[\n",
       "P(D) = 0.02 \\quad \\Rightarrow \\quad P(D^c) = 0.98\n",
       "\\]\n",
       "\\[\n",
       "\\text{Sensitivity} = P(T^+|D) = 0.95\n",
       "\\]\n",
       "\\[\n",
       "\\text{Specificity} = P(T^-|D^c) = 0.90 \\quad \\Rightarrow \\quad P(T^+|D^c) = 1 - 0.90 = 0.10\n",
       "\\]\n",
       "\n",
       "---\n",
       "\n",
       "## **2. Apply Bayes' theorem**\n",
       "\n",
       "We want \\( P(D|T^+) \\).\n",
       "\n",
       "Bayes' theorem:\n",
       "\n",
       "\\[\n",
       "P(D|T^+) = \\frac{P(T^+|D) \\cdot P(D)}{P(T^+|D) \\cdot P(D) + P(T^+|D^c) \\cdot P(D^c)}\n",
       "\\]\n",
       "\n",
       "---\n",
       "\n",
       "## **3. Plug in numbers**\n",
       "\n",
       "Numerator:\n",
       "\n",
       "\\[\n",
       "P(T^+|D) \\cdot P(D) = 0.95 \\times 0.02 = 0.019\n",
       "\\]\n",
       "\n",
       "Denominator:\n",
       "\n",
       "\\[\n",
       "0.95 \\times 0.02 + 0.10 \\times 0.98\n",
       "\\]\n",
       "\\[\n",
       "= 0.019 + 0.098 = 0.117\n",
       "\\]\n",
       "\n",
       "---\n",
       "\n",
       "## **4. Compute posterior probability**\n",
       "\n",
       "\\[\n",
       "P(D|T^+) = \\frac{0.019}{0.117} \\approx 0.1624\n",
       "\\]\n",
       "\n",
       "That is about \\( 16.24\\% \\).\n",
       "\n",
       "---\n",
       "\n",
       "## **5. Interpretation**\n",
       "\n",
       "Even with a positive test result from a test that seems fairly accurate (95% sensitivity, 90% specificity), the probability the person actually has the disease is only about **16.24%**, because the disease is rare (2% prevalence).\n",
       "\n",
       "---\n",
       "\n",
       "**Final answer:**\n",
       "\\[\n",
       "\\boxed{0.1624}\n",
       "\\]"
      ],
      "text/plain": [
       "<IPython.core.display.Markdown object>"
      ]
     },
     "metadata": {},
     "output_type": "display_data"
    }
   ],
   "source": [
    "# Answer Deepseek\n",
    "client = OpenAI(api_key=os.getenv('DEEPSEEK_API_KEY'), base_url='https://api.deepseek.com/v1')\n",
    "\n",
    "response = client.chat.completions.create(\n",
    "    messages=[{\"role\": \"user\", \"content\": question}],\n",
    "    model='deepseek-chat'\n",
    ")\n",
    "\n",
    "answer = response.choices[0].message.content\n",
    "\n",
    "display(Markdown(answer))"
   ]
  },
  {
   "cell_type": "code",
   "execution_count": null,
   "id": "74f6e7c8",
   "metadata": {},
   "outputs": [],
   "source": []
  }
 ],
 "metadata": {
  "kernelspec": {
   "display_name": ".venv",
   "language": "python",
   "name": "python3"
  },
  "language_info": {
   "codemirror_mode": {
    "name": "ipython",
    "version": 3
   },
   "file_extension": ".py",
   "mimetype": "text/x-python",
   "name": "python",
   "nbconvert_exporter": "python",
   "pygments_lexer": "ipython3",
   "version": "3.12.7"
  }
 },
 "nbformat": 4,
 "nbformat_minor": 5
}
