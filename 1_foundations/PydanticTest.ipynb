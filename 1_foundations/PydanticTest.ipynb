{
 "cells": [
  {
   "cell_type": "code",
   "execution_count": 36,
   "id": "a2698c7c",
   "metadata": {},
   "outputs": [],
   "source": [
    "import os\n",
    "from dotenv import load_dotenv\n",
    "from openai import OpenAI\n",
    "from pydantic import BaseModel\n",
    "import gradio as gr"
   ]
  },
  {
   "cell_type": "code",
   "execution_count": 37,
   "id": "2f8333bc",
   "metadata": {},
   "outputs": [],
   "source": [
    "# Set up client\n",
    "client = OpenAI(api_key=os.getenv('DEEPSEEK_API_KEY'), base_url='https://api.deepseek.com')\n",
    "model = 'deepseek-chat'"
   ]
  },
  {
   "cell_type": "code",
   "execution_count": null,
   "id": "e484a912",
   "metadata": {},
   "outputs": [],
   "source": [
    "# Set up class for evaluator to respond\n",
    "class CityGuide(BaseModel):\n",
    "    is_acceptable: bool\n",
    "    feedback: str"
   ]
  },
  {
   "cell_type": "code",
   "execution_count": 39,
   "id": "69af06bd",
   "metadata": {},
   "outputs": [],
   "source": [
    "# Prompts for main page\n",
    "def main_system_prompt() -> str:\n",
    "    prompt = f\"You are an Agent on a website that provides information about places asked by the User.\"\n",
    "    prompt += f\"Your response should be casual, friendly, and inviting for the User to visit that place.\"\n",
    "    prompt += f\"If you are not sure where that place is, just say so.\"\n",
    "    return prompt"
   ]
  },
  {
   "cell_type": "code",
   "execution_count": 77,
   "id": "eaab2c6e",
   "metadata": {},
   "outputs": [],
   "source": [
    "# Prompts for evaluator\n",
    "def evaluator_system_prompt(country: str) -> str:\n",
    "    prompt = f\"You determine if the place mentioned is located in {country}. \"\n",
    "    return prompt\n",
    "\n",
    "def evaluator_user_prompt(reply, message, history) -> str:\n",
    "    prompt = f\"Here's conversation between the User and Agent: \\n\\n{history}\\n\\n\"\n",
    "    prompt += f\"Here is the latest message from the User: \\n\\n{message}\\n\\n\"\n",
    "    prompt += f\"Here is the latest response form the Agent: \\n\\n{reply}\\n\\n\"\n",
    "    prompt += f\"Please evaluate the response and determine if it is acceptable and give your feedback.\"\n",
    "    return prompt"
   ]
  },
  {
   "cell_type": "code",
   "execution_count": null,
   "id": "799346f8",
   "metadata": {},
   "outputs": [],
   "source": [
    "evaluator = OpenAI(api_key=os.getenv('GOOGLE_API_KEY'), base_url='https://generativelanguage.googleapis.com/v1beta/openai/')\n",
    "\n",
    "def evaluator_response(country: str, reply, message, history) -> CityGuide:\n",
    "    messages = [{\"role\": \"system\", \"content\": evaluator_system_prompt(country=country)}] + [{\"role\": \"user\", \"content\": evaluator_user_prompt(reply, message, history)}]\n",
    "    response = evaluator.beta.chat.completions.parse(\n",
    "        messages=messages,\n",
    "        model='gemini-2.0-flash',\n",
    "        response_format=CityGuide\n",
    "    )\n",
    "    return response.choices[0].message.parsed"
   ]
  },
  {
   "cell_type": "code",
   "execution_count": 80,
   "id": "05660f93",
   "metadata": {},
   "outputs": [
    {
     "name": "stdout",
     "output_type": "stream",
     "text": [
      "ParsedChatCompletion[CityGuide](id='vkjnaNuROfCCvr0PpcWBiQc', choices=[ParsedChoice[CityGuide](finish_reason='stop', index=0, logprobs=None, message=ParsedChatCompletionMessage[CityGuide](content='{\\n  \"is_acceptable\": true\\n}', refusal=None, role='assistant', annotations=None, audio=None, function_call=None, tool_calls=None, parsed=CityGuide(is_acceptable=True)))], created=1759987903, model='gemini-2.0-flash', object='chat.completion', service_tier=None, system_fingerprint=None, usage=CompletionUsage(completion_tokens=11, prompt_tokens=69, total_tokens=80, completion_tokens_details=None, prompt_tokens_details=None))\n",
      "True\n"
     ]
    }
   ],
   "source": [
    "# Test evaluator response\n",
    "response = evaluator_response(country=\"Thailand\", reply=\"Bangkok is located in Thailand\", message=\"Bangkok\", history=\"\")\n",
    "print(response.is_acceptable)"
   ]
  },
  {
   "cell_type": "code",
   "execution_count": 87,
   "id": "b3a9a0b6",
   "metadata": {},
   "outputs": [],
   "source": [
    "# Main chat function\n",
    "def chat(message, history):\n",
    "    system_prompt = main_system_prompt()\n",
    "    messages = [{\"role\": \"system\", \"content\": system_prompt}] + history + [{\"role\": \"user\", \"content\": message}]\n",
    "    response = client.chat.completions.create(\n",
    "        messages=messages,\n",
    "        model=model\n",
    "    )\n",
    "    \n",
    "    country = \"Thailand\"\n",
    "    reply = response.choices[0].message.content\n",
    "\n",
    "    evaluation = evaluator_response(country=country, reply=reply, message=message, history=history)\n",
    "\n",
    "    if not evaluation.is_acceptable:\n",
    "        reply += f\"\\n\\n Too bad it is not in Thailand\"\n",
    "    \n",
    "    return reply"
   ]
  },
  {
   "cell_type": "code",
   "execution_count": 88,
   "id": "f99a14f8",
   "metadata": {},
   "outputs": [
    {
     "name": "stdout",
     "output_type": "stream",
     "text": [
      "* Running on local URL:  http://127.0.0.1:7877\n",
      "* To create a public link, set `share=True` in `launch()`.\n"
     ]
    },
    {
     "data": {
      "text/html": [
       "<div><iframe src=\"http://127.0.0.1:7877/\" width=\"100%\" height=\"500\" allow=\"autoplay; camera; microphone; clipboard-read; clipboard-write;\" frameborder=\"0\" allowfullscreen></iframe></div>"
      ],
      "text/plain": [
       "<IPython.core.display.HTML object>"
      ]
     },
     "metadata": {},
     "output_type": "display_data"
    },
    {
     "data": {
      "text/plain": []
     },
     "execution_count": 88,
     "metadata": {},
     "output_type": "execute_result"
    },
    {
     "name": "stdout",
     "output_type": "stream",
     "text": [
      "ParsedChatCompletion[CityGuide](id='60nnaKHzGbKjvr0PppqLqQc', choices=[ParsedChoice[CityGuide](finish_reason='stop', index=0, logprobs=None, message=ParsedChatCompletionMessage[CityGuide](content='{\\n  \"is_acceptable\": false\\n}', refusal=None, role='assistant', annotations=None, audio=None, function_call=None, tool_calls=None, parsed=CityGuide(is_acceptable=False)))], created=1759988204, model='gemini-2.0-flash', object='chat.completion', service_tier=None, system_fingerprint=None, usage=CompletionUsage(completion_tokens=11, prompt_tokens=151, total_tokens=162, completion_tokens_details=None, prompt_tokens_details=None))\n",
      "ParsedChatCompletion[CityGuide](id='A0rnaM_AN6qh1e8P27HjeA', choices=[ParsedChoice[CityGuide](finish_reason='stop', index=0, logprobs=None, message=ParsedChatCompletionMessage[CityGuide](content='{\\n  \"is_acceptable\": false\\n}', refusal=None, role='assistant', annotations=None, audio=None, function_call=None, tool_calls=None, parsed=CityGuide(is_acceptable=False)))], created=1759988228, model='gemini-2.0-flash', object='chat.completion', service_tier=None, system_fingerprint=None, usage=CompletionUsage(completion_tokens=11, prompt_tokens=308, total_tokens=319, completion_tokens_details=None, prompt_tokens_details=None))\n",
      "ParsedChatCompletion[CityGuide](id='IkrnaLWyLaum1e8PtrWTsAQ', choices=[ParsedChoice[CityGuide](finish_reason='stop', index=0, logprobs=None, message=ParsedChatCompletionMessage[CityGuide](content='{\\n  \"is_acceptable\": false\\n}', refusal=None, role='assistant', annotations=None, audio=None, function_call=None, tool_calls=None, parsed=CityGuide(is_acceptable=False)))], created=1759988259, model='gemini-2.0-flash', object='chat.completion', service_tier=None, system_fingerprint=None, usage=CompletionUsage(completion_tokens=11, prompt_tokens=479, total_tokens=490, completion_tokens_details=None, prompt_tokens_details=None))\n",
      "ParsedChatCompletion[CityGuide](id='P0rnaKWwCOGR1e8Pu9DwmAU', choices=[ParsedChoice[CityGuide](finish_reason='stop', index=0, logprobs=None, message=ParsedChatCompletionMessage[CityGuide](content='{\\n  \"is_acceptable\": true\\n}', refusal=None, role='assistant', annotations=None, audio=None, function_call=None, tool_calls=None, parsed=CityGuide(is_acceptable=True)))], created=1759988287, model='gemini-2.0-flash', object='chat.completion', service_tier=None, system_fingerprint=None, usage=CompletionUsage(completion_tokens=11, prompt_tokens=661, total_tokens=672, completion_tokens_details=None, prompt_tokens_details=None))\n",
      "ParsedChatCompletion[CityGuide](id='U0rnaIHZJtTK1e8P--31sQE', choices=[ParsedChoice[CityGuide](finish_reason='stop', index=0, logprobs=None, message=ParsedChatCompletionMessage[CityGuide](content='{\\n  \"is_acceptable\": false\\n}', refusal=None, role='assistant', annotations=None, audio=None, function_call=None, tool_calls=None, parsed=CityGuide(is_acceptable=False)))], created=1759988308, model='gemini-2.0-flash', object='chat.completion', service_tier=None, system_fingerprint=None, usage=CompletionUsage(completion_tokens=11, prompt_tokens=811, total_tokens=822, completion_tokens_details=None, prompt_tokens_details=None))\n"
     ]
    }
   ],
   "source": [
    "gr.ChatInterface(chat, type='messages').launch()"
   ]
  },
  {
   "cell_type": "code",
   "execution_count": null,
   "id": "4d82cb18",
   "metadata": {},
   "outputs": [],
   "source": []
  }
 ],
 "metadata": {
  "kernelspec": {
   "display_name": ".venv",
   "language": "python",
   "name": "python3"
  },
  "language_info": {
   "codemirror_mode": {
    "name": "ipython",
    "version": 3
   },
   "file_extension": ".py",
   "mimetype": "text/x-python",
   "name": "python",
   "nbconvert_exporter": "python",
   "pygments_lexer": "ipython3",
   "version": "3.12.7"
  }
 },
 "nbformat": 4,
 "nbformat_minor": 5
}
